{
 "cells": [
  {
   "cell_type": "code",
   "execution_count": 12,
   "metadata": {},
   "outputs": [],
   "source": [
    "%matplotlib inline\n",
    "import matplotlib\n",
    "import matplotlib.pyplot as plt\n",
    "def clusterClubs(numClust=5):#参数：希望得到的簇数目\n",
    "    datList = []\n",
    "    for line in open('place.txt'),readlines():#获取地图数据\n",
    "        lineArr = line.split('\\t')\n",
    "        datList.append([float(lineArr[4]),float(lineArr[3])])#逐个获取第四列和第五列\n",
    "    datMat = mat(datList)\n",
    "    myCentroids,clustAssing = biKmeans(datMat,numClust,distMeas=distSLC)\n",
    "    \n",
    "    fig = plt.figure()\n",
    "    rect=[0.1,0.1,0.8,0.8]#创建矩形\n",
    "    #创建不同标记图案\n",
    "    scatterMarkers=['s','o', '^', '8', 'p', \\\n",
    "                    'd', 'v', 'h', '>', '<']\n",
    "    axprops = dict(xticks=[], yticks=[])\n",
    "    ax0=fig.add_axes(rect, label='ax0', **axprops)\n",
    "    imgP = plt.imread('Portland.png')#导入地图\n",
    "    ax0.imshow(imgP)\n",
    "    ax1=fig.add_axes(rect, label='ax1', frameon=False)\n",
    "    for i in range(numClust):\n",
    "        ptsInCurrCluster = datMat[nonzero(clustAssing[:,0].A==i)[0],:]\n",
    "        markerStyle = scatterMarkers[i % len(scatterMarkers)]\n",
    "        ax1.scatter(ptsInCurrCluster[:,0].flatten().A[0], ptsInCurrCluster[:,1].flatten().A[0], marker=markerStyle, s=90)\n",
    "    ax1.scatter(myCentroids[:,0].flatten().A[0], myCentroids[:,1].flatten().A[0], marker='+', s=300)\n",
    "    plt.show()\n"
   ]
  }
 ],
 "metadata": {
  "kernelspec": {
   "display_name": "Python 3",
   "language": "python",
   "name": "python3"
  },
  "language_info": {
   "codemirror_mode": {
    "name": "ipython",
    "version": 3
   },
   "file_extension": ".py",
   "mimetype": "text/x-python",
   "name": "python",
   "nbconvert_exporter": "python",
   "pygments_lexer": "ipython3",
   "version": "3.7.1"
  }
 },
 "nbformat": 4,
 "nbformat_minor": 2
}
